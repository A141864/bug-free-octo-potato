{
 "cells": [
  {
   "cell_type": "markdown",
   "id": "f5b8c864",
   "metadata": {},
   "source": [
    "# Spark\n",
    "<img src=\"img/arch.png\" width=\"50%\"/>"
   ]
  },
  {
   "cell_type": "markdown",
   "id": "32a36bc1",
   "metadata": {},
   "source": [
    "Create the spark context and a SQlContext which is used to interact with the the Spark SQL API.\n",
    "The context appears under the `Applications` part of the [Spark Master UI](http://localhost:8080/).\n",
    "\n",
    "The Spark [Jobs UI](http://127.0.0.1:4040/jobs/) loads on the client computer (Jupyter Container)."
   ]
  },
  {
   "cell_type": "code",
   "execution_count": 1,
   "id": "cc4fd7b7",
   "metadata": {},
   "outputs": [],
   "source": [
    "import pyspark\n",
    "from pyspark.sql import SQLContext\n",
    "sc = pyspark.SparkContext('spark://spark:7077')\n",
    "sqlContext = SQLContext(sc)"
   ]
  },
  {
   "cell_type": "markdown",
   "id": "8e4fddf9",
   "metadata": {},
   "source": [
    "Create a Pandas Dataframe with 4 rows. More on dataframes later."
   ]
  },
  {
   "cell_type": "code",
   "execution_count": 3,
   "id": "33dd5e61",
   "metadata": {},
   "outputs": [],
   "source": [
    "import pandas as pd\n",
    "pdf = pd.DataFrame({'x': list(range(0, 4))})"
   ]
  },
  {
   "cell_type": "markdown",
   "id": "fee4f6e1",
   "metadata": {},
   "source": [
    "Use list comprehension to loop over the Pandas dataframe. The loop is executed sequentially. This takes roughly 120 seconds."
   ]
  },
  {
   "cell_type": "code",
   "execution_count": 4,
   "id": "139238d9",
   "metadata": {},
   "outputs": [
    {
     "data": {
      "text/plain": [
       "120.03146696090698"
      ]
     },
     "execution_count": 4,
     "metadata": {},
     "output_type": "execute_result"
    }
   ],
   "source": [
    "import time\n",
    "\n",
    "sleepTime = 30\n",
    "\n",
    "start_time = time.time()\n",
    "[time.sleep(sleepTime) for x in pdf['x']]\n",
    "(time.time() - start_time)"
   ]
  },
  {
   "cell_type": "markdown",
   "id": "a9f67633",
   "metadata": {},
   "source": [
    "1. Convert the Pandas dataframe to a Spark dataframe.\n",
    "2. Declare a sleep function which will execute on each executor\n",
    "3. Tell Spark to partition the data (groupby) then call a UDF (sleep) on the partition. `count()` prompts Spark to begin execution\n",
    "\n",
    "Execution time is shorter because the work is deistributed across workers."
   ]
  },
  {
   "cell_type": "code",
   "execution_count": 14,
   "id": "fa9c7e58",
   "metadata": {},
   "outputs": [
    {
     "data": {
      "text/plain": [
       "43.67003536224365"
      ]
     },
     "execution_count": 14,
     "metadata": {},
     "output_type": "execute_result"
    }
   ],
   "source": [
    "import pandas as pd\n",
    "import time\n",
    "from pyspark.sql.functions import pandas_udf, PandasUDFType\n",
    "\n",
    "sleepTime = 30\n",
    "\n",
    "df = sqlContext.createDataFrame(pdf)\n",
    "\n",
    "def sleep(data):\n",
    "    [time.sleep(sleepTime) for x in data['x']]\n",
    "    return data\n",
    "\n",
    "start_time = time.time()\n",
    "df.groupby('x').applyInPandas(sleep,df.schema).count()\n",
    "(time.time() - start_time)"
   ]
  },
  {
   "cell_type": "markdown",
   "id": "cd9378df",
   "metadata": {},
   "source": [
    "Intentionally raise an exception. The [Stages](http://127.0.0.1:4040/stages) section of the Jobs UI can be used to track down errors."
   ]
  },
  {
   "cell_type": "code",
   "execution_count": null,
   "id": "a2f784ad",
   "metadata": {},
   "outputs": [],
   "source": [
    "import pandas as pd\n",
    "import time\n",
    "from pyspark.sql.functions import pandas_udf, PandasUDFType\n",
    "\n",
    "sleepTime = 30\n",
    "\n",
    "def sleep(data):\n",
    "    raise Exception('Random UDF error')\n",
    "    return data\n",
    "\n",
    "start_time = time.time()\n",
    "df.groupby('x').applyInPandas(sleep,df.schema).count()\n",
    "(time.time() - start_time)"
   ]
  },
  {
   "cell_type": "code",
   "execution_count": null,
   "id": "25363e78",
   "metadata": {},
   "outputs": [],
   "source": [
    "sc.stop()"
   ]
  }
 ],
 "metadata": {
  "kernelspec": {
   "display_name": "python36",
   "language": "python",
   "name": "python36"
  },
  "language_info": {
   "codemirror_mode": {
    "name": "ipython",
    "version": 3
   },
   "file_extension": ".py",
   "mimetype": "text/x-python",
   "name": "python",
   "nbconvert_exporter": "python",
   "pygments_lexer": "ipython3",
   "version": "3.6.13"
  }
 },
 "nbformat": 4,
 "nbformat_minor": 5
}
