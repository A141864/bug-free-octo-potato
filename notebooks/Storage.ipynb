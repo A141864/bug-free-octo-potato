{
 "cells": [
  {
   "cell_type": "markdown",
   "id": "c8966f17",
   "metadata": {},
   "source": [
    "[Jobs](http://127.0.0.1:4040/jobs/)"
   ]
  },
  {
   "cell_type": "markdown",
   "id": "f76ed773",
   "metadata": {},
   "source": [
    "[Spark master](http://127.0.0.1:8080/)"
   ]
  },
  {
   "cell_type": "code",
   "execution_count": 29,
   "id": "2c038b4d",
   "metadata": {},
   "outputs": [],
   "source": [
    "import pyspark\n",
    "import pandas as pd\n",
    "from pyspark.sql import SQLContext\n",
    "sc = pyspark.SparkContext('spark://spark:7077')\n",
    "sqlContext = SQLContext(sc)"
   ]
  },
  {
   "cell_type": "code",
   "execution_count": 30,
   "id": "67075bd6",
   "metadata": {},
   "outputs": [],
   "source": [
    "urls = [\n",
    "    'https://s3.amazonaws.com/nyc-tlc/trip+data/fhv_tripdata_2015-04.csv',\n",
    "    'https://s3.amazonaws.com/nyc-tlc/trip+data/fhv_tripdata_2015-03.csv',\n",
    "    'https://s3.amazonaws.com/nyc-tlc/trip+data/fhv_tripdata_2015-02.csv',\n",
    "    'https://s3.amazonaws.com/nyc-tlc/trip+data/fhv_tripdata_2015-01.csv']\n",
    "\n",
    "pdf = pd.DataFrame({'url': urls})\n",
    "df = sqlContext.createDataFrame(pdf)"
   ]
  },
  {
   "cell_type": "code",
   "execution_count": 31,
   "id": "de4afcd5",
   "metadata": {},
   "outputs": [],
   "source": [
    "import pandas as pd\n",
    "import time\n",
    "from pyspark.sql.functions import pandas_udf, PandasUDFType\n",
    "\n",
    "df = sqlContext.createDataFrame(pdf)\n",
    "\n",
    "headers = pd.read_csv('https://s3.amazonaws.com/nyc-tlc/trip+data/fhv_tripdata_2015-04.csv', nrows=1)\n",
    "schema = sqlContext.createDataFrame(headers).schema\n",
    "\n",
    "def download_files(data):\n",
    "    frames = [pd.read_csv(x) for x in data['url']] \n",
    "    return  pd.concat(frames)\n",
    "\n",
    "df.groupby('url') \\\n",
    "    .applyInPandas(download_files, schema=schema) \\\n",
    "    .limit(100000) \\\n",
    "    .write.partitionBy(\"Dispatching_base_num\") \\\n",
    "    .mode(\"overwrite\") \\\n",
    "    .csv(\"data/example.csv\", header=True)\n"
   ]
  },
  {
   "cell_type": "code",
   "execution_count": 32,
   "id": "e891277c",
   "metadata": {},
   "outputs": [
    {
     "name": "stdout",
     "output_type": "stream",
     "text": [
      "+-------------------+----------+--------------------+\n",
      "|        Pickup_date|locationID|Dispatching_base_num|\n",
      "+-------------------+----------+--------------------+\n",
      "|2015-01-01 00:03:00|      null|              B00225|\n",
      "|2015-01-01 00:03:00|      null|              B00225|\n",
      "|2015-01-01 00:04:00|      null|              B00225|\n",
      "|2015-01-01 00:05:00|      null|              B00225|\n",
      "|2015-01-01 00:06:00|      null|              B00225|\n",
      "|2015-01-01 00:06:00|      null|              B00225|\n",
      "|2015-01-01 00:06:00|      null|              B00225|\n",
      "|2015-01-01 00:09:00|      null|              B00225|\n",
      "|2015-01-01 00:10:00|      null|              B00225|\n",
      "|2015-01-01 00:11:00|      null|              B00225|\n",
      "|2015-01-01 00:11:00|      null|              B00225|\n",
      "|2015-01-01 00:12:00|      null|              B00225|\n",
      "|2015-01-01 00:15:00|      null|              B00225|\n",
      "|2015-01-01 00:17:00|      null|              B00225|\n",
      "|2015-01-01 00:19:00|      null|              B00225|\n",
      "|2015-01-01 00:20:00|      null|              B00225|\n",
      "|2015-01-01 00:21:00|      null|              B00225|\n",
      "|2015-01-01 00:22:00|      null|              B00225|\n",
      "|2015-01-01 00:25:00|      null|              B00225|\n",
      "|2015-01-01 00:26:00|      null|              B00225|\n",
      "+-------------------+----------+--------------------+\n",
      "only showing top 20 rows\n",
      "\n"
     ]
    }
   ],
   "source": [
    "sqlContext.read.format('csv').options(header='true').load('data/example.csv').show()"
   ]
  },
  {
   "cell_type": "code",
   "execution_count": 33,
   "id": "80d32633",
   "metadata": {},
   "outputs": [
    {
     "name": "stdout",
     "output_type": "stream",
     "text": [
      "'Dispatching_base_num=B00013'  'Dispatching_base_num=B00225'\r\n",
      "'Dispatching_base_num=B00014'  'Dispatching_base_num=B00227'\r\n",
      "'Dispatching_base_num=B00053'  'Dispatching_base_num=B00248'\r\n",
      "'Dispatching_base_num=B00095'   _SUCCESS\r\n"
     ]
    }
   ],
   "source": [
    "! ls ./data/example.csv"
   ]
  },
  {
   "cell_type": "code",
   "execution_count": 34,
   "id": "8c9dd5af",
   "metadata": {},
   "outputs": [],
   "source": [
    "sc.stop()"
   ]
  }
 ],
 "metadata": {
  "kernelspec": {
   "display_name": "python36",
   "language": "python",
   "name": "python36"
  },
  "language_info": {
   "codemirror_mode": {
    "name": "ipython",
    "version": 3
   },
   "file_extension": ".py",
   "mimetype": "text/x-python",
   "name": "python",
   "nbconvert_exporter": "python",
   "pygments_lexer": "ipython3",
   "version": "3.6.13"
  }
 },
 "nbformat": 4,
 "nbformat_minor": 5
}
