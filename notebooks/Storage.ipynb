{
 "cells": [
  {
   "cell_type": "markdown",
   "id": "b841b5f0",
   "metadata": {},
   "source": [
    "<img src=\"img/storage.png\" width=\"50%\"/>\n",
    "\n",
    "[Jobs](http://127.0.0.1:4040/jobs/)\n",
    "\n",
    "[Spark master](http://127.0.0.1:8080/)"
   ]
  },
  {
   "cell_type": "code",
   "execution_count": 1,
   "id": "2c038b4d",
   "metadata": {},
   "outputs": [],
   "source": [
    "import pyspark\n",
    "import pandas as pd\n",
    "from pyspark.sql import SQLContext\n",
    "sc = pyspark.SparkContext('spark://spark:7077')\n",
    "sqlContext = SQLContext(sc)"
   ]
  },
  {
   "cell_type": "code",
   "execution_count": 3,
   "id": "67075bd6",
   "metadata": {},
   "outputs": [],
   "source": [
    "urls = [\n",
    "'https://s3.amazonaws.com/nyc-tlc/trip+data/fhv_tripdata_2015-01.csv',\n",
    "'https://s3.amazonaws.com/nyc-tlc/trip+data/fhv_tripdata_2015-02.csv',\n",
    "'https://s3.amazonaws.com/nyc-tlc/trip+data/fhv_tripdata_2015-03.csv',\n",
    "'https://s3.amazonaws.com/nyc-tlc/trip+data/fhv_tripdata_2015-04.csv']\n",
    "\n",
    "pdf = pd.DataFrame({'url': urls})\n",
    "df = sqlContext.createDataFrame(pdf)"
   ]
  },
  {
   "cell_type": "code",
   "execution_count": 4,
   "id": "de4afcd5",
   "metadata": {},
   "outputs": [],
   "source": [
    "import pandas as pd\n",
    "import time\n",
    "from pyspark.sql.functions import pandas_udf, PandasUDFType\n",
    "\n",
    "df = sqlContext.createDataFrame(pdf)\n",
    "\n",
    "headers = pd.read_csv(\n",
    "'https://s3.amazonaws.com/nyc-tlc/trip+data/fhv_tripdata_2015-01.csv', nrows=1)\n",
    "schema = sqlContext.createDataFrame(headers).schema\n",
    "\n",
    "def download_files(data):\n",
    "    frames = [pd.read_csv(x) for x in data['url']] \n",
    "    return  pd.concat(frames)\n",
    "\n",
    "def return_data(data):\n",
    "    return data\n"
   ]
  },
  {
   "cell_type": "code",
   "execution_count": null,
   "id": "bd7ed621",
   "metadata": {},
   "outputs": [],
   "source": [
    "df.groupby('url') \\\n",
    "    .applyInPandas(download_files, schema=schema) \\\n",
    "    .limit(100000) \\\n",
    "    .groupBy(\"Dispatching_base_num\") \\\n",
    "    .applyInPandas(return_data, schema=schema) \\\n",
    "    .write.partitionBy(\"Dispatching_base_num\") \\\n",
    "    .mode(\"overwrite\") \\\n",
    "    .csv(\"data/example.csv\", header=True)"
   ]
  },
  {
   "cell_type": "code",
   "execution_count": null,
   "id": "e891277c",
   "metadata": {},
   "outputs": [],
   "source": [
    "sqlContext.read.format('csv').options(header='true').load('data/example.csv').show()"
   ]
  },
  {
   "cell_type": "code",
   "execution_count": 33,
   "id": "80d32633",
   "metadata": {},
   "outputs": [
    {
     "name": "stdout",
     "output_type": "stream",
     "text": [
      "'Dispatching_base_num=B00013'  'Dispatching_base_num=B00225'\r\n",
      "'Dispatching_base_num=B00014'  'Dispatching_base_num=B00227'\r\n",
      "'Dispatching_base_num=B00053'  'Dispatching_base_num=B00248'\r\n",
      "'Dispatching_base_num=B00095'   _SUCCESS\r\n"
     ]
    }
   ],
   "source": [
    "! ls ./data/example.csv"
   ]
  },
  {
   "cell_type": "code",
   "execution_count": 34,
   "id": "8c9dd5af",
   "metadata": {},
   "outputs": [],
   "source": [
    "sc.stop()"
   ]
  }
 ],
 "metadata": {
  "kernelspec": {
   "display_name": "python36",
   "language": "python",
   "name": "python36"
  },
  "language_info": {
   "codemirror_mode": {
    "name": "ipython",
    "version": 3
   },
   "file_extension": ".py",
   "mimetype": "text/x-python",
   "name": "python",
   "nbconvert_exporter": "python",
   "pygments_lexer": "ipython3",
   "version": "3.6.13"
  }
 },
 "nbformat": 4,
 "nbformat_minor": 5
}
